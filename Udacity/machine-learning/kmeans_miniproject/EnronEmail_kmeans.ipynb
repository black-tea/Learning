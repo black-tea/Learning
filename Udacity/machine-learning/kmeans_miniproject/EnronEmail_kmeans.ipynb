{
 "cells": [
  {
   "cell_type": "code",
   "execution_count": 41,
   "metadata": {},
   "outputs": [
    {
     "data": {
      "image/png": "[encoded data removed]",
      "text/plain": [
       "<matplotlib.figure.Figure at 0xc1ae710>"
      ]
     },
     "metadata": {},
     "output_type": "display_data"
    },
    {
     "data": {
      "image/png": "[encoded data removed]",
      "text/plain": [
       "<matplotlib.figure.Figure at 0xe8067b8>"
      ]
     },
     "metadata": {},
     "output_type": "display_data"
    }
   ],
   "source": [
    "#!/usr/bin/python \n",
    "\n",
    "\"\"\" \n",
    "    Skeleton code for k-means clustering mini-project.\n",
    "\"\"\"\n",
    "\n",
    "\n",
    "\n",
    "from sklearn.cluster import KMeans\n",
    "import pickle\n",
    "import numpy\n",
    "import matplotlib.pyplot as plt\n",
    "import sys\n",
    "sys.path.append(\"tools/\")\n",
    "from feature_format import featureFormat, targetFeatureSplit\n",
    "import pandas as pd\n",
    "\n",
    "\n",
    "def Draw(pred, features, poi, mark_poi=False, name=\"image.png\", f1_name=\"feature 1\", f2_name=\"feature 2\"):\n",
    "    \"\"\" some plotting code designed to help you visualize your clusters \"\"\"\n",
    "\n",
    "    ### plot each cluster with a different color--add more colors for\n",
    "    ### drawing more than five clusters\n",
    "    colors = [\"b\", \"c\", \"k\", \"m\", \"g\"]\n",
    "    for ii, pp in enumerate(pred):\n",
    "        plt.scatter(features[ii][0], features[ii][1], color = colors[pred[ii]])\n",
    "\n",
    "    ### if you like, place red stars over points that are POIs (just for funsies)\n",
    "    if mark_poi:\n",
    "        for ii, pp in enumerate(pred):\n",
    "            if poi[ii]:\n",
    "                plt.scatter(features[ii][0], features[ii][1], color=\"r\", marker=\"*\")\n",
    "    plt.xlabel(f1_name)\n",
    "    plt.ylabel(f2_name)\n",
    "    plt.savefig(name)\n",
    "    plt.show()\n",
    "\n",
    "\n",
    "\n",
    "### load in the dict of dicts containing all the data on each person in the dataset\n",
    "data_dict = pickle.load( open(\"enron/final_project_dataset.pkl\", \"r\") )\n",
    "### there's an outlier--remove it! \n",
    "data_dict.pop(\"TOTAL\", 0)\n",
    "\n",
    "\n",
    "### the input features we want to use \n",
    "### can be any key in the person-level dictionary (salary, director_fees, etc.) \n",
    "feature_1 = \"salary\"\n",
    "feature_2 = \"exercised_stock_options\"\n",
    "feature_3 = \"total_payments\"\n",
    "poi  = \"poi\"\n",
    "features_list = [poi, feature_1, feature_2, feature_3]\n",
    "data = featureFormat(data_dict, features_list )\n",
    "poi, finance_features = targetFeatureSplit( data )\n",
    "\n",
    "\n",
    "### print the scatter plot for the features\n",
    "for f1, f2, f3 in finance_features:\n",
    "    plt.scatter( f1, f2 )\n",
    "plt.show()\n",
    "\n",
    "### cluster here; create predictions of the cluster labels\n",
    "### for the data and store them to a list called pred\n",
    "kmeans = KMeans(n_clusters=2, random_state=0).fit(finance_features)\n",
    "pred = kmeans.labels_\n",
    "\n",
    "try:\n",
    "    Draw(pred, finance_features, poi, mark_poi=False, name=\"3clusters.pdf\", f1_name=feature_1, f2_name=feature_2)\n",
    "except NameError:\n",
    "    print \"no predictions object named pred found, no clusters to plot\"\n",
    "    "
   ]
  },
  {
   "cell_type": "code",
   "execution_count": 42,
   "metadata": {},
   "outputs": [
    {
     "name": "stdout",
     "output_type": "stream",
     "text": [
      "                      salary to_messages deferral_payments total_payments  \\\n",
      "ALLEN PHILLIP K     201955.0        2902           2869717        4484442   \n",
      "BADUM JAMES P            NaN         NaN            178980         182466   \n",
      "BANNANTINE JAMES M     477.0         566               NaN         916197   \n",
      "BAXTER JOHN C       267102.0         NaN           1295738        5634343   \n",
      "BAY FRANKLIN R      239671.0         NaN            260455         827696   \n",
      "\n",
      "                    exercised_stock_options    bonus restricted_stock  \\\n",
      "ALLEN PHILLIP K                   1729541.0  4175000           126027   \n",
      "BADUM JAMES P                      257817.0      NaN              NaN   \n",
      "BANNANTINE JAMES M                4046157.0      NaN          1757552   \n",
      "BAXTER JOHN C                     6680544.0  1200000          3942714   \n",
      "BAY FRANKLIN R                          NaN   400000           145796   \n",
      "\n",
      "                   shared_receipt_with_poi restricted_stock_deferred  \\\n",
      "ALLEN PHILLIP K                       1407                   -126027   \n",
      "BADUM JAMES P                          NaN                       NaN   \n",
      "BANNANTINE JAMES M                     465                   -560222   \n",
      "BAXTER JOHN C                          NaN                       NaN   \n",
      "BAY FRANKLIN R                         NaN                    -82782   \n",
      "\n",
      "                   total_stock_value           ...           loan_advances  \\\n",
      "ALLEN PHILLIP K              1729541           ...                     NaN   \n",
      "BADUM JAMES P                 257817           ...                     NaN   \n",
      "BANNANTINE JAMES M           5243487           ...                     NaN   \n",
      "BAXTER JOHN C               10623258           ...                     NaN   \n",
      "BAY FRANKLIN R                 63014           ...                     NaN   \n",
      "\n",
      "                   from_messages    other from_this_person_to_poi    poi  \\\n",
      "ALLEN PHILLIP K             2195      152                      65  False   \n",
      "BADUM JAMES P                NaN      NaN                     NaN  False   \n",
      "BANNANTINE JAMES M            29   864523                       0  False   \n",
      "BAXTER JOHN C                NaN  2660303                     NaN  False   \n",
      "BAY FRANKLIN R               NaN       69                     NaN  False   \n",
      "\n",
      "                    director_fees deferred_income long_term_incentive  \\\n",
      "ALLEN PHILLIP K               NaN        -3081055              304805   \n",
      "BADUM JAMES P                 NaN             NaN                 NaN   \n",
      "BANNANTINE JAMES M            NaN           -5104                 NaN   \n",
      "BAXTER JOHN C                 NaN        -1386055             1586055   \n",
      "BAY FRANKLIN R                NaN         -201641                 NaN   \n",
      "\n",
      "                                 email_address from_poi_to_this_person  \n",
      "ALLEN PHILLIP K        phillip.allen@enron.com                      47  \n",
      "BADUM JAMES P                              NaN                     NaN  \n",
      "BANNANTINE JAMES M  james.bannantine@enron.com                      39  \n",
      "BAXTER JOHN C                              NaN                     NaN  \n",
      "BAY FRANKLIN R             frank.bay@enron.com                     NaN  \n",
      "\n",
      "[5 rows x 21 columns]\n"
     ]
    }
   ],
   "source": [
    "## Prep: Import the dict to df, reformat column types from text to numeric\n",
    "email_df = pd.DataFrame.from_dict(data_dict, orient='index')\n",
    "email_df[['salary', 'exercised_stock_options']] = email_df[['salary','exercised_stock_options']].apply(pd.to_numeric, errors='coerce')\n",
    "print email_df.head()"
   ]
  },
  {
   "cell_type": "code",
   "execution_count": 43,
   "metadata": {},
   "outputs": [
    {
     "name": "stdout",
     "output_type": "stream",
     "text": [
      "The minimum stock option value is 3285, and the maximum stock option value is 34348384\n",
      "The minimum salary taken by an employee is 477, and the maximum salary taken by an employee is 1111258\n"
     ]
    }
   ],
   "source": [
    "## Stock Options: Let's take a look at the minimum and maximum values\n",
    "stock_min = email_df['exercised_stock_options'].min()\n",
    "stock_max = email_df['exercised_stock_options'].max()\n",
    "print \"The minimum stock option value is {0:.0f}, and the maximum stock option value is {1:.0f}\".format(stock_min, stock_max)\n",
    "\n",
    "## Salaries: Let's also take a look a the minimum and maximum values for salary\n",
    "salary_min = email_df['salary'].min()\n",
    "salary_max = email_df['salary'].max()\n",
    "print \"The minimum salary taken by an employee is {0:.0f}, and the maximum salary taken by an employee is {1:.0f}\".format(salary_min, salary_max)\n"
   ]
  }
 ],
 "metadata": {
  "kernelspec": {
   "display_name": "python27",
   "language": "python",
   "name": "python27"
  },
  "language_info": {
   "codemirror_mode": {
    "name": "ipython",
    "version": 2
   },
   "file_extension": ".py",
   "mimetype": "text/x-python",
   "name": "python",
   "nbconvert_exporter": "python",
   "pygments_lexer": "ipython2",
   "version": "2.7.13"
  }
 },
 "nbformat": 4,
 "nbformat_minor": 2
}
